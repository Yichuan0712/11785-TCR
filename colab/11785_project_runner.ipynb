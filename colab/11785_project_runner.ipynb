{
  "cells": [
    {
      "cell_type": "code",
      "execution_count": null,
      "metadata": {
        "id": "moHsEGjQ0Wsq"
      },
      "outputs": [],
      "source": [
        "!git clone https://github.com/Yichuan0712/11785-TCR.git\n",
        "import os\n",
        "print(os.getcwd())\n",
        "os.chdir('11785-TCR')\n",
        "# os.listdir(os.getcwd())"
      ]
    },
    {
      "cell_type": "code",
      "execution_count": null,
      "metadata": {
        "id": "G27xzJtQqos4"
      },
      "outputs": [],
      "source": [
        "!pip install 'git+https://github.com/katsura-jp/pytorch-cosine-annealing-with-warmup'\n",
        "!pip install 'git+https://github.com/facebookresearch/esm.git'\n",
        "!pip install peft\n",
        "!pip install rdkit-pypi"
      ]
    },
    {
      "cell_type": "code",
      "execution_count": null,
      "metadata": {
        "id": "UQLr-P1Y0fJJ"
      },
      "outputs": [],
      "source": [
        "!git pull origin main"
      ]
    },
    {
      "cell_type": "markdown",
      "source": [
        "***train*** - Train the ESM-2 model along with the projection head.\n"
      ],
      "metadata": {
        "id": "nKjwjxDamGXC"
      }
    },
    {
      "cell_type": "code",
      "execution_count": null,
      "metadata": {
        "id": "QcSfllJR0jT2"
      },
      "outputs": [],
      "source": [
        "!python ./run.py --config_path ./config/default/midterm400_clean.yaml --mode train"
      ]
    },
    {
      "cell_type": "markdown",
      "source": [
        "***extract*** - Utilize the trained ESM-2 model and projection head to extract features."
      ],
      "metadata": {
        "id": "-Qd-PVIumL3D"
      }
    },
    {
      "cell_type": "code",
      "execution_count": null,
      "metadata": {
        "id": "yz4BSAuqkv8A"
      },
      "outputs": [],
      "source": [
        "import google.colab\n",
        "google.colab.drive.mount('/content/drive')\n",
        "!cp /content/drive/MyDrive/11785-project/midterm/model_triplet_CLEAN.pth /content\n",
        "# I download a trained model from my Google Drive"
      ]
    },
    {
      "cell_type": "code",
      "execution_count": null,
      "metadata": {
        "id": "wxyQoq3FQLtV",
        "collapsed": true
      },
      "outputs": [],
      "source": [
        "!python ./run.py --config_path ./config/default/midterm400_clean.yaml --resume_path '/content/model_triplet_CLEAN.pth'  --mode extract"
      ]
    },
    {
      "cell_type": "markdown",
      "source": [
        "***predict*** - Use the extracted features to train the XGBoost model for binding specificity prediction."
      ],
      "metadata": {
        "id": "y2BtVEmUmf6K"
      }
    },
    {
      "cell_type": "code",
      "source": [
        "!python ./run.py --config_path ./config/default/midterm400_clean.yaml \\\n",
        "--train_feature_path '/content/11785-TCR/result/default/20241108-06-44-55/feature_data_train.csv' \\\n",
        "--test_feature_path '/content/11785-TCR/result/default/20241108-06-44-55/feature_data_test.csv' \\\n",
        "--mode predict\n",
        "# Use the files generated from feature extraction"
      ],
      "metadata": {
        "colab": {
          "base_uri": "https://localhost:8080/"
        },
        "id": "3DxeEqyXlDwv",
        "outputId": "ef27c7bf-890f-4161-d8c3-04661d1e1808"
      },
      "execution_count": 13,
      "outputs": [
        {
          "output_type": "stream",
          "name": "stdout",
          "text": [
            "================================================================================================================================\n",
            "               ______   ______   .__   __. .___________..______          ___   .___________.  ______ .______      \n",
            "              /      | /  __  \\  |  \\ |  | |           ||   _  \\        /   \\  |           | /      ||   _  \\     \n",
            "             |  ,----'|  |  |  | |   \\|  | `---|  |----`|  |_)  |      /  ^  \\ `---|  |----`|  ,----'|  |_)  |    \n",
            "             |  |     |  |  |  | |  . `  |     |  |     |      /      /  /_\\  \\    |  |     |  |     |      /     \n",
            "             |  `----.|  `--'  | |  |\\   |     |  |     |  |\\  \\----./  _____  \\   |  |     |  `----.|  |\\  \\----.\n",
            "              \\______| \\______/  |__| \\__|     |__|     | _| `._____/__/     \\__\\  |__|      \\______|| _| `._____|\n",
            "\n",
            "================================================================================================================================\n",
            "ContraTCR Colab Test\n",
            "================================================================================================================================\n",
            "Executed with: python ./run.py--config_path./config/default/midterm400_clean.yaml--train_feature_path/content/11785-TCR/result/default/20241108-06-44-55/feature_data_train.csv--test_feature_path/content/11785-TCR/result/default/20241108-06-44-55/feature_data_test.csv--modepredict\n",
            "================================================================================================================================\n",
            "Result Directory: /content/11785-TCR/result/default/20241108-07-20-15\n",
            "Checkpoint Directory: /content/11785-TCR/result/default/20241108-07-20-15/checkpoint\n",
            "Log Directory: /content/11785-TCR/result/default/20241108-07-20-15/loginfo.log\n",
            "Config Directory: /content/11785-TCR/result/default/20241108-07-20-15/midterm400_clean.yaml\n",
            "Current Working Directory: /content/11785-TCR\n",
            "================================================================================================================================\n",
            "#### midterm400_clean.yaml ####\n",
            "    #fix_seed: 42\n",
            "    description: \"ContraTCR Colab Test\"\n",
            "    dataset: \"PyTDC\"\n",
            "    tcr_embedding_source: \"BindingSite\"\n",
            "              # \"Full\"\n",
            "    batch_mode: \"ByEpitope\"\n",
            "                  # \"ByEpitope\"\n",
            "                  # \"Regular\"\n",
            "    batch_size: 192  # 192\n",
            "    epochs: 26000\n",
            "    max_learning_rate: 3e-4\n",
            "    min_learning_rate: 0\n",
            "    \n",
            "    optimizer_beta1: 0.9\n",
            "    optimizer_beta2: 0.999\n",
            "    optimizer_weight_decay: 0.0005\n",
            "    optimizer_eps: 1e-16\n",
            "    \n",
            "    scheduler_first_cycle_steps: 100\n",
            "    scheduler_warmup_epochs: 0\n",
            "    scheduler_gamma: 1\n",
            "    \n",
            "    contrastive_mode: \"Triplet\"\n",
            "                      # \"Triplet\"\n",
            "                      # \"MultiPosNeg\"\n",
            "    n_pos: 2\n",
            "    n_neg: 3\n",
            "    temp: 0.1\n",
            "    \n",
            "    negative_sampling_mode: \"ExcludePos\"\n",
            "                            # \"ExcludePos\"\n",
            "                            # \"RandomNeg\"\n",
            "                            # \"HardNeg\"\n",
            "    hard_neg_mining_sample_num: 1\n",
            "    hard_neg_mining_adaptive_rate: 2\n",
            "    \n",
            "    encoder_name:  esm2_t33_650M_UR50D\n",
            "                    # esm2_t36_3B_UR50D,\n",
            "                    # esm2_t33_650M_UR50D,\n",
            "                    # esm2_t30_150M_UR50D,\n",
            "                    # esm2_t12_35M_UR50D,\n",
            "                    # esm2_t6_8M_UR50D,\n",
            "    tune_ESM_table: False\n",
            "    fine_tuning:\n",
            "      enable: True\n",
            "      unfix_last_layer: 4\n",
            "    adapter_h:\n",
            "      enable: False\n",
            "      num_end_adapter_layers: 12\n",
            "      module_type: \"MLP1\"\n",
            "    lora:\n",
            "      enable: False\n",
            "      esm_num_end_lora: -1\n",
            "      r: 8\n",
            "      alpha: 32\n",
            "      dropout: 0.05\n",
            "    \n",
            "    \n",
            "    projection_head_name: \"LayerNorm\"\n",
            "    hidden_dim: 512\n",
            "    out_dim: 128\n",
            "    drop_out: 0.1\n",
            "================================================================================================================================\n",
            "XGBoost model training & binding specificity prediction.\n",
            "Accuracy on test data: 0.75\n",
            "AUROC on test data: 0.82\n",
            "AUPR on test data: 0.81\n",
            "F1 Score on test data: 0.75\n",
            "Classification Report:\n",
            "              precision    recall  f1-score   support\n",
            "\n",
            "           0       0.75      0.75      0.75      2335\n",
            "           1       0.76      0.75      0.75      2383\n",
            "\n",
            "    accuracy                           0.75      4718\n",
            "   macro avg       0.75      0.75      0.75      4718\n",
            "weighted avg       0.75      0.75      0.75      4718\n",
            "\n"
          ]
        }
      ]
    }
  ],
  "metadata": {
    "accelerator": "GPU",
    "colab": {
      "gpuType": "L4",
      "machine_shape": "hm",
      "provenance": []
    },
    "kernelspec": {
      "display_name": "Python 3",
      "name": "python3"
    },
    "language_info": {
      "name": "python"
    }
  },
  "nbformat": 4,
  "nbformat_minor": 0
}