{
  "nbformat": 4,
  "nbformat_minor": 0,
  "metadata": {
    "colab": {
      "provenance": []
    },
    "kernelspec": {
      "name": "python3",
      "display_name": "Python 3"
    },
    "language_info": {
      "name": "python"
    }
  },
  "cells": [
    {
      "cell_type": "code",
      "execution_count": 3,
      "metadata": {
        "colab": {
          "base_uri": "https://localhost:8080/"
        },
        "id": "moHsEGjQ0Wsq",
        "outputId": "15689124-5af3-4788-d952-4778598a5eac"
      },
      "outputs": [
        {
          "output_type": "stream",
          "name": "stdout",
          "text": [
            "Cloning into '11785-TCR'...\n",
            "remote: Enumerating objects: 49, done.\u001b[K\n",
            "remote: Counting objects: 100% (49/49), done.\u001b[K\n",
            "remote: Compressing objects: 100% (29/29), done.\u001b[K\n",
            "remote: Total 49 (delta 12), reused 44 (delta 10), pack-reused 0 (from 0)\u001b[K\n",
            "Receiving objects: 100% (49/49), 1.19 MiB | 3.64 MiB/s, done.\n",
            "Resolving deltas: 100% (12/12), done.\n",
            "/content/11785-TCR\n"
          ]
        }
      ],
      "source": [
        "!git clone https://github.com/Yichuan0712/11785-TCR.git\n",
        "import os\n",
        "print(os.getcwd())\n",
        "os.chdir('11785-TCR')\n",
        "# os.listdir(os.getcwd())"
      ]
    },
    {
      "cell_type": "code",
      "source": [
        "!pip install 'git+https://github.com/katsura-jp/pytorch-cosine-annealing-with-warmup'"
      ],
      "metadata": {
        "colab": {
          "base_uri": "https://localhost:8080/"
        },
        "id": "G27xzJtQqos4",
        "outputId": "95ae5ffa-a0d6-4958-fb65-794d1fb3bacd"
      },
      "execution_count": 7,
      "outputs": [
        {
          "output_type": "stream",
          "name": "stdout",
          "text": [
            "Collecting git+https://github.com/katsura-jp/pytorch-cosine-annealing-with-warmup\n",
            "  Cloning https://github.com/katsura-jp/pytorch-cosine-annealing-with-warmup to /tmp/pip-req-build-k5xw3s2e\n",
            "  Running command git clone --filter=blob:none --quiet https://github.com/katsura-jp/pytorch-cosine-annealing-with-warmup /tmp/pip-req-build-k5xw3s2e\n",
            "  Resolved https://github.com/katsura-jp/pytorch-cosine-annealing-with-warmup to commit 12d03c07553aedd3d9e9155e2b3e31ce8c64081a\n",
            "  Preparing metadata (setup.py) ... \u001b[?25l\u001b[?25hdone\n",
            "Building wheels for collected packages: cosine_annealing_warmup\n",
            "  Building wheel for cosine_annealing_warmup (setup.py) ... \u001b[?25l\u001b[?25hdone\n",
            "  Created wheel for cosine_annealing_warmup: filename=cosine_annealing_warmup-2.0-py3-none-any.whl size=4169 sha256=1f4620fe3e0ff1fb67e5e0743f962062be37f6216f54779b17ee8831f694440c\n",
            "  Stored in directory: /tmp/pip-ephem-wheel-cache-d_jxcog6/wheels/29/26/10/bf1a07417dd54aa73bdf09ce4f31c187974a444a1cedddbd99\n",
            "Successfully built cosine_annealing_warmup\n",
            "Installing collected packages: cosine_annealing_warmup\n",
            "Successfully installed cosine_annealing_warmup-2.0\n"
          ]
        }
      ]
    },
    {
      "cell_type": "code",
      "source": [
        "!git pull origin main"
      ],
      "metadata": {
        "colab": {
          "base_uri": "https://localhost:8080/"
        },
        "id": "UQLr-P1Y0fJJ",
        "outputId": "ad9f9f5c-3091-4dda-ce2d-30687188cea8"
      },
      "execution_count": 14,
      "outputs": [
        {
          "output_type": "stream",
          "name": "stdout",
          "text": [
            "remote: Enumerating objects: 17, done.\u001b[K\n",
            "remote: Counting objects:   5% (1/17)\u001b[K\rremote: Counting objects:  11% (2/17)\u001b[K\rremote: Counting objects:  17% (3/17)\u001b[K\rremote: Counting objects:  23% (4/17)\u001b[K\rremote: Counting objects:  29% (5/17)\u001b[K\rremote: Counting objects:  35% (6/17)\u001b[K\rremote: Counting objects:  41% (7/17)\u001b[K\rremote: Counting objects:  47% (8/17)\u001b[K\rremote: Counting objects:  52% (9/17)\u001b[K\rremote: Counting objects:  58% (10/17)\u001b[K\rremote: Counting objects:  64% (11/17)\u001b[K\rremote: Counting objects:  70% (12/17)\u001b[K\rremote: Counting objects:  76% (13/17)\u001b[K\rremote: Counting objects:  82% (14/17)\u001b[K\rremote: Counting objects:  88% (15/17)\u001b[K\rremote: Counting objects:  94% (16/17)\u001b[K\rremote: Counting objects: 100% (17/17)\u001b[K\rremote: Counting objects: 100% (17/17), done.\u001b[K\n",
            "remote: Compressing objects:  20% (1/5)\u001b[K\rremote: Compressing objects:  40% (2/5)\u001b[K\rremote: Compressing objects:  60% (3/5)\u001b[K\rremote: Compressing objects:  80% (4/5)\u001b[K\rremote: Compressing objects: 100% (5/5)\u001b[K\rremote: Compressing objects: 100% (5/5), done.\u001b[K\n",
            "Unpacking objects:   9% (1/11)\rUnpacking objects:  18% (2/11)\rUnpacking objects:  27% (3/11)\rUnpacking objects:  36% (4/11)\rUnpacking objects:  45% (5/11)\rUnpacking objects:  54% (6/11)\rremote: Total 11 (delta 6), reused 9 (delta 4), pack-reused 0 (from 0)\u001b[K\n",
            "Unpacking objects:  63% (7/11)\rUnpacking objects:  72% (8/11)\rUnpacking objects:  81% (9/11)\rUnpacking objects:  90% (10/11)\rUnpacking objects: 100% (11/11)\rUnpacking objects: 100% (11/11), 1.08 KiB | 221.00 KiB/s, done.\n",
            "From https://github.com/Yichuan0712/11785-TCR\n",
            " * branch            main       -> FETCH_HEAD\n",
            "   e6ae839..8bfa2aa  main       -> origin/main\n",
            "Updating e6ae839..8bfa2aa\n",
            "Fast-forward\n",
            " config/default/config.yaml |  2 \u001b[32m+\u001b[m\u001b[31m-\u001b[m\n",
            " data.py                    | 19 \u001b[32m+++++++++++++\u001b[m\u001b[31m------\u001b[m\n",
            " run.py                     | 14 \u001b[32m+++++++\u001b[m\u001b[31m-------\u001b[m\n",
            " 3 files changed, 21 insertions(+), 14 deletions(-)\n"
          ]
        }
      ]
    },
    {
      "cell_type": "code",
      "source": [
        "!python run.py"
      ],
      "metadata": {
        "colab": {
          "base_uri": "https://localhost:8080/"
        },
        "id": "QcSfllJR0jT2",
        "outputId": "9f2ae7b0-7224-4eb8-e814-083c92a313f1"
      },
      "execution_count": 15,
      "outputs": [
        {
          "output_type": "stream",
          "name": "stdout",
          "text": [
            "================================================================================================================================\n",
            "               ______   ______   .__   __. .___________..______          ___   .___________.  ______ .______      \n",
            "              /      | /  __  \\  |  \\ |  | |           ||   _  \\        /   \\  |           | /      ||   _  \\     \n",
            "             |  ,----'|  |  |  | |   \\|  | `---|  |----`|  |_)  |      /  ^  \\ `---|  |----`|  ,----'|  |_)  |    \n",
            "             |  |     |  |  |  | |  . `  |     |  |     |      /      /  /_\\  \\    |  |     |  |     |      /     \n",
            "             |  `----.|  `--'  | |  |\\   |     |  |     |  |\\  \\----./  _____  \\   |  |     |  `----.|  |\\  \\----.\n",
            "              \\______| \\______/  |__| \\__|     |__|     | _| `._____/__/     \\__\\  |__|      \\______|| _| `._____|\n",
            "\n",
            "================================================================================================================================\n",
            "ContraTCR Colab Test\n",
            "================================================================================================================================\n",
            "Called with: python run.py\n",
            "================================================================================================================================\n",
            "Result Directory: /content/11785-TCR/11785-TCR/result/default/20241003-00-24-11\n",
            "Checkpoint Directory: /content/11785-TCR/11785-TCR/result/default/20241003-00-24-11/checkpoint\n",
            "Log Directory: /content/11785-TCR/11785-TCR/result/default/20241003-00-24-11/loginfo.log\n",
            "Config Directory: /content/11785-TCR/11785-TCR/result/default/20241003-00-24-11/config.yaml\n",
            "Current Working Directory: /content/11785-TCR/11785-TCR\n",
            "================================================================================================================================\n",
            "#### config.yaml ####\n",
            "    fix_seed: 42\n",
            "    description: \"ContraTCR Colab Test\"\n",
            "    dataset: \"pytdc\"\n",
            "    batch_size: 16\n",
            "    \n",
            "    model_scheme: \"esm2\"\n",
            "    encoder_name:  facebook/esm2_t33_650M_UR50D\n",
            "      # facebook/esm2_t33_650M_UR50D,\n",
            "      # facebook/esm2_t30_150M_UR50D,\n",
            "      # facebook/esm2_t12_35M_UR50D,\n",
            "      # facebook/esm2_t6_8M_UR50D,\n",
            "    training_mode: \"finetune\" # \"frozen\" \"finetune\"\n",
            "    finetune_layer: -2\n",
            "================================================================================================================================\n",
            "Random seed set to 42.\n",
            "================================================================================================================================\n",
            "Number of Steps for Training Data: 1033\n",
            "Number of Steps for Validation Data: 149\n",
            "Number of Steps for Test Data: 293\n",
            "Data loading complete.\n"
          ]
        }
      ]
    }
  ]
}